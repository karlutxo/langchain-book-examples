{
 "cells": [
  {
   "cell_type": "markdown",
   "metadata": {},
   "source": [
    "# RAG from Oracle #"
   ]
  },
  {
   "cell_type": "code",
   "execution_count": 1,
   "metadata": {},
   "outputs": [],
   "source": [
    "%%capture --no-stderr\n",
    "%pip install -qU  langchain langchain-community langchain-openai langgraph oracledb\n"
   ]
  },
  {
   "cell_type": "code",
   "execution_count": 2,
   "metadata": {},
   "outputs": [],
   "source": [
    "import getpass\n",
    "import os\n",
    "\n",
    "if not os.environ.get(\"OPENAI_API_KEY\"):\n",
    "    os.environ[\"OPENAI_API_KEY\"] = getpass.getpass()\n",
    "\n",
    "# Comment out the below to opt-out of using LangSmith in this notebook. Not required.\n",
    "if not os.environ.get(\"LANGCHAIN_API_KEY\"):\n",
    "    os.environ[\"LANGCHAIN_API_KEY\"] = getpass.getpass()\n",
    "    os.environ[\"LANGCHAIN_TRACING_V2\"] = \"true\""
   ]
  },
  {
   "cell_type": "code",
   "execution_count": 3,
   "metadata": {},
   "outputs": [
    {
     "name": "stdout",
     "output_type": "stream",
     "text": [
      "oracle\n",
      "['countries', 'departments', 'emp_temp', 'employees', 'j_purchaseorder', 'job_history', 'jobs', 'locations', 'regions', 'sales']\n"
     ]
    },
    {
     "data": {
      "text/plain": [
       "\"[(10, 'Administration', 200, 1700), (20, 'Marketing', 201, 1800), (30, 'Purchasing', 114, 1700), (40, 'Human Resources', 203, 2400), (50, 'Shipping', 121, 1500), (60, 'IT', 103, 1400), (70, 'Public Relations', 204, 2700), (80, 'Sales', 145, 2500), (90, 'Executive', 100, 1700), (100, 'Finance', 108, 1700), (110, 'Accounting', 205, 1700), (120, 'Treasury', None, 1700), (130, 'Corporate Tax', None, 1700), (140, 'Control And Credit', None, 1700), (150, 'Shareholder Services', None, 1700), (160, 'Benefits', None, 1700), (170, 'Manufacturing', None, 1700), (180, 'Construction', None, 1700), (190, 'Contracting', None, 1700), (200, 'Operations', None, 1700), (210, 'IT Support', None, 1700), (220, 'NOC', None, 1700), (230, 'IT Helpdesk', None, 1700), (240, 'Government Sales', None, 1700), (250, 'Retail Sales', None, 1700), (260, 'Recruiting', None, 1700), (270, 'Payroll', None, 1700)]\""
      ]
     },
     "execution_count": 3,
     "metadata": {},
     "output_type": "execute_result"
    }
   ],
   "source": [
    "\n",
    "from langchain_community.utilities import SQLDatabase\n",
    "import oracledb\n",
    "\n",
    "db_uri = \"oracle+oracledb://hr:hr@localhost:1521?service_name=xepdb1\"\n",
    "db = SQLDatabase.from_uri(db_uri)\n",
    "\n",
    "print(db.dialect)\n",
    "print(db.get_usable_table_names())\n",
    "db.run(\"SELECT * FROM departments\")\n",
    "\n"
   ]
  },
  {
   "cell_type": "code",
   "execution_count": 4,
   "metadata": {},
   "outputs": [
    {
     "data": {
      "text/plain": [
       "[QuerySQLDataBaseTool(description=\"Input to this tool is a detailed and correct SQL query, output is a result from the database. If the query is not correct, an error message will be returned. If an error is returned, rewrite the query, check the query, and try again. If you encounter an issue with Unknown column 'xxxx' in 'field list', use sql_db_schema to query the correct table fields.\", db=<langchain_community.utilities.sql_database.SQLDatabase object at 0x110b8d580>),\n",
       " InfoSQLDatabaseTool(description='Input to this tool is a comma-separated list of tables, output is the schema and sample rows for those tables. Be sure that the tables actually exist by calling sql_db_list_tables first! Example Input: table1, table2, table3', db=<langchain_community.utilities.sql_database.SQLDatabase object at 0x110b8d580>),\n",
       " ListSQLDatabaseTool(db=<langchain_community.utilities.sql_database.SQLDatabase object at 0x110b8d580>),\n",
       " QuerySQLCheckerTool(description='Use this tool to double check if your query is correct before executing it. Always use this tool before executing a query with sql_db_query!', db=<langchain_community.utilities.sql_database.SQLDatabase object at 0x110b8d580>, llm=ChatOpenAI(client=<openai.resources.chat.completions.Completions object at 0x113a933b0>, async_client=<openai.resources.chat.completions.AsyncCompletions object at 0x113ab8800>, model_name='gpt-3.5-turbo-0125', openai_api_key=SecretStr('**********'), openai_proxy=''), llm_chain=LLMChain(prompt=PromptTemplate(input_variables=['dialect', 'query'], template='\\n{query}\\nDouble check the {dialect} query above for common mistakes, including:\\n- Using NOT IN with NULL values\\n- Using UNION when UNION ALL should have been used\\n- Using BETWEEN for exclusive ranges\\n- Data type mismatch in predicates\\n- Properly quoting identifiers\\n- Using the correct number of arguments for functions\\n- Casting to the correct data type\\n- Using the proper columns for joins\\n\\nIf there are any of the above mistakes, rewrite the query. If there are no mistakes, just reproduce the original query.\\n\\nOutput the final SQL query only.\\n\\nSQL Query: '), llm=ChatOpenAI(client=<openai.resources.chat.completions.Completions object at 0x113a933b0>, async_client=<openai.resources.chat.completions.AsyncCompletions object at 0x113ab8800>, model_name='gpt-3.5-turbo-0125', openai_api_key=SecretStr('**********'), openai_proxy='')))]"
      ]
     },
     "execution_count": 4,
     "metadata": {},
     "output_type": "execute_result"
    }
   ],
   "source": [
    "from langchain_openai import ChatOpenAI\n",
    "from langchain_community.agent_toolkits import SQLDatabaseToolkit\n",
    "\n",
    "llm = ChatOpenAI(model=\"gpt-3.5-turbo-0125\")\n",
    "#llm = ChatOpenAI(\n",
    "#    model=\"gpt-4o\",\n",
    "#    temperature=0,\n",
    "#    max_tokens=None,\n",
    "#    timeout=None,\n",
    "#    max_retries=2,\n",
    "#)\n",
    "\n",
    "toolkit = SQLDatabaseToolkit(db=db, llm=llm)\n",
    "tools = toolkit.get_tools()\n",
    "tools"
   ]
  },
  {
   "cell_type": "code",
   "execution_count": 5,
   "metadata": {},
   "outputs": [
    {
     "data": {
      "text/plain": [
       "<bound method BaseMessage.pretty_print of SystemMessage(content='You are an agent designed to interact with an Oracle SQL database.\\nGiven an input question, create a syntactically correct Oracle SQL query to run, then look at the results of the query and return the answer.\\nUnless the user specifies a specific number of examples they wish to obtain, always limit your query to at most 5 results.\\nYou can order the results by a relevant column to return the most interesting examples in the database.\\nNever query for all the columns from a specific table, only ask for the relevant columns given the question.\\nYou have access to tools for interacting with the database.\\nOnly use the below tools. Only use the information returned by the below tools to construct your final answer.\\nYou MUST double check your query before executing it. If you get an error while executing a query, rewrite the query and try again.\\n\\nDO NOT make any DML statements (INSERT, UPDATE, DELETE, DROP, TRUNCATE etc.) to the database.\\n\\nTo start you should ALWAYS look at the tables in the database to see what you can query. \\nDo NOT skip this step.\\nWhen possible try to join tables to extend the retrieved information.\\nThen you should query the schema of the most relevant tables.')>"
      ]
     },
     "execution_count": 5,
     "metadata": {},
     "output_type": "execute_result"
    }
   ],
   "source": [
    "from langchain_core.messages import SystemMessage\n",
    "\n",
    "SQL_PREFIX = \"\"\"You are an agent designed to interact with an Oracle SQL database.\n",
    "Given an input question, create a syntactically correct Oracle SQL query to run, then look at the results of the query and return the answer.\n",
    "Unless the user specifies a specific number of examples they wish to obtain, always limit your query to at most 5 results.\n",
    "You can order the results by a relevant column to return the most interesting examples in the database.\n",
    "Never query for all the columns from a specific table, only ask for the relevant columns given the question.\n",
    "You have access to tools for interacting with the database.\n",
    "Only use the below tools. Only use the information returned by the below tools to construct your final answer.\n",
    "You MUST double check your query before executing it. If you get an error while executing a query, rewrite the query and try again.\n",
    "\n",
    "DO NOT make any DML statements (INSERT, UPDATE, DELETE, DROP, TRUNCATE etc.) to the database.\n",
    "\n",
    "To start you should ALWAYS look at the tables in the database to see what you can query. \n",
    "Do NOT skip this step.\n",
    "When possible try to join tables to extend the retrieved information.\n",
    "Then you should query the schema of the most relevant tables.\"\"\"\n",
    "\n",
    "system_message = SystemMessage(content=SQL_PREFIX)\n",
    "system_message.pretty_print"
   ]
  },
  {
   "cell_type": "code",
   "execution_count": 6,
   "metadata": {},
   "outputs": [],
   "source": [
    "from langchain_core.messages import HumanMessage\n",
    "from langgraph.prebuilt import create_react_agent\n",
    "\n",
    "agent_executor = create_react_agent(llm, tools, messages_modifier=system_message)\n",
    "\n"
   ]
  },
  {
   "cell_type": "code",
   "execution_count": null,
   "metadata": {},
   "outputs": [],
   "source": [
    "for s in agent_executor.stream(\n",
    "    {\"messages\": [HumanMessage(content=\"Which are the three departments with the most employees?. Show only the department's name\")]}\n",
    "):\n",
    "    print(s)\n",
    "    print(\"----\")"
   ]
  },
  {
   "cell_type": "code",
   "execution_count": 7,
   "metadata": {},
   "outputs": [
    {
     "name": "stdout",
     "output_type": "stream",
     "text": [
      "{'agent': {'messages': [AIMessage(content='', additional_kwargs={'tool_calls': [{'id': 'call_KrZWvHaPqIyCNmwy7vEsZw9U', 'function': {'arguments': '{}', 'name': 'sql_db_list_tables'}, 'type': 'function'}]}, response_metadata={'token_usage': {'completion_tokens': 12, 'prompt_tokens': 585, 'total_tokens': 597}, 'model_name': 'gpt-3.5-turbo-0125', 'system_fingerprint': None, 'finish_reason': 'tool_calls', 'logprobs': None}, id='run-6f5aee92-ad74-47b3-88e4-8773002e93ec-0', tool_calls=[{'name': 'sql_db_list_tables', 'args': {}, 'id': 'call_KrZWvHaPqIyCNmwy7vEsZw9U'}], usage_metadata={'input_tokens': 585, 'output_tokens': 12, 'total_tokens': 597})]}}\n",
      "{'tools': {'messages': [ToolMessage(content='countries, departments, emp_temp, employees, j_purchaseorder, job_history, jobs, locations, regions, sales', name='sql_db_list_tables', tool_call_id='call_KrZWvHaPqIyCNmwy7vEsZw9U')]}}\n",
      "{'agent': {'messages': [AIMessage(content='', additional_kwargs={'tool_calls': [{'id': 'call_yyswONi9kEuPE0dVrxKzXuWS', 'function': {'arguments': '{\"table_names\":\"employees\"}', 'name': 'sql_db_schema'}, 'type': 'function'}]}, response_metadata={'token_usage': {'completion_tokens': 16, 'prompt_tokens': 630, 'total_tokens': 646}, 'model_name': 'gpt-3.5-turbo-0125', 'system_fingerprint': None, 'finish_reason': 'tool_calls', 'logprobs': None}, id='run-4c77d101-a769-4f26-adde-9a85e55a1d64-0', tool_calls=[{'name': 'sql_db_schema', 'args': {'table_names': 'employees'}, 'id': 'call_yyswONi9kEuPE0dVrxKzXuWS'}], usage_metadata={'input_tokens': 630, 'output_tokens': 16, 'total_tokens': 646})]}}\n"
     ]
    },
    {
     "name": "stderr",
     "output_type": "stream",
     "text": [
      "/Library/Frameworks/Python.framework/Versions/3.12/lib/python3.12/site-packages/langchain_community/utilities/sql_database.py:317: SAWarning: Cannot correctly sort tables; there are unresolvable cycles between tables \"departments, employees\", which is usually caused by mutually dependent foreign key constraints.  Foreign key constraints involving these tables will not be considered; this warning may raise an error in a future release.\n",
      "  metadata_table_names = [tbl.name for tbl in self._metadata.sorted_tables]\n",
      "/Library/Frameworks/Python.framework/Versions/3.12/lib/python3.12/site-packages/langchain_community/utilities/sql_database.py:329: SAWarning: Cannot correctly sort tables; there are unresolvable cycles between tables \"departments, employees\", which is usually caused by mutually dependent foreign key constraints.  Foreign key constraints involving these tables will not be considered; this warning may raise an error in a future release.\n",
      "  for tbl in self._metadata.sorted_tables\n"
     ]
    },
    {
     "name": "stdout",
     "output_type": "stream",
     "text": [
      "{'tools': {'messages': [ToolMessage(content='\\nCREATE TABLE employees (\\n\\temployee_id NUMBER(6, 0) NOT NULL, \\n\\tfirst_name VARCHAR(20 CHAR), \\n\\tlast_name VARCHAR(25 CHAR) NOT NULL, \\n\\temail VARCHAR(25 CHAR) NOT NULL, \\n\\tphone_number VARCHAR(20 CHAR), \\n\\thire_date DATE NOT NULL, \\n\\tjob_id VARCHAR(10 CHAR) NOT NULL, \\n\\tsalary NUMBER(8, 2), \\n\\tcommission_pct NUMBER(2, 2), \\n\\tmanager_id NUMBER(6, 0), \\n\\tdepartment_id NUMBER(4, 0), \\n\\tCONSTRAINT emp_emp_id_pk PRIMARY KEY (employee_id), \\n\\tCONSTRAINT emp_dept_fk FOREIGN KEY(department_id) REFERENCES departments (department_id), \\n\\tCONSTRAINT emp_job_fk FOREIGN KEY(job_id) REFERENCES jobs (job_id), \\n\\tCONSTRAINT emp_manager_fk FOREIGN KEY(manager_id) REFERENCES employees (employee_id), \\n\\tCONSTRAINT emp_salary_min CHECK (salary > 0)\\n)\\n\\n/*\\n3 rows from employees table:\\nemployee_id\\tfirst_name\\tlast_name\\temail\\tphone_number\\thire_date\\tjob_id\\tsalary\\tcommission_pct\\tmanager_id\\tdepartment_id\\n199\\tDouglas\\tGrant\\tDGRANT\\t1.650.555.0164\\t2018-01-13 00:00:00\\tSH_CLERK\\t2600\\tNone\\t124\\t50\\n200\\tJennifer\\tWhalen\\tJWHALEN\\t1.515.555.0165\\t2013-09-17 00:00:00\\tAD_ASST\\t4400\\tNone\\t101\\t10\\n201\\tMichael\\tMartinez\\tMMARTINE\\t1.515.555.0166\\t2014-02-17 00:00:00\\tMK_MAN\\t13000\\tNone\\t100\\t20\\n*/', name='sql_db_schema', tool_call_id='call_yyswONi9kEuPE0dVrxKzXuWS')]}}\n",
      "{'agent': {'messages': [AIMessage(content='', additional_kwargs={'tool_calls': [{'id': 'call_SMQgVmJ0B4FnSPpcPy6hIofW', 'function': {'arguments': '{\"query\":\"SELECT first_name || \\' \\' || last_name AS full_name, salary FROM employees WHERE first_name = \\'John\\'\"}', 'name': 'sql_db_query'}, 'type': 'function'}]}, response_metadata={'token_usage': {'completion_tokens': 37, 'prompt_tokens': 1024, 'total_tokens': 1061}, 'model_name': 'gpt-3.5-turbo-0125', 'system_fingerprint': None, 'finish_reason': 'tool_calls', 'logprobs': None}, id='run-c185333a-3d94-411e-9fe6-eb24cb3385cc-0', tool_calls=[{'name': 'sql_db_query', 'args': {'query': \"SELECT first_name || ' ' || last_name AS full_name, salary FROM employees WHERE first_name = 'John'\"}, 'id': 'call_SMQgVmJ0B4FnSPpcPy6hIofW'}], usage_metadata={'input_tokens': 1024, 'output_tokens': 37, 'total_tokens': 1061})]}}\n",
      "{'tools': {'messages': [ToolMessage(content=\"[('John Chen', Decimal('8200')), ('John Seo', Decimal('2700')), ('John Singh', Decimal('14000'))]\", name='sql_db_query', tool_call_id='call_SMQgVmJ0B4FnSPpcPy6hIofW')]}}\n",
      "{'agent': {'messages': [AIMessage(content='John has the following salaries:\\n1. Full Name: John Chen, Salary: $8200\\n2. Full Name: John Seo, Salary: $2700\\n3. Full Name: John Singh, Salary: $14000', response_metadata={'token_usage': {'completion_tokens': 49, 'prompt_tokens': 1100, 'total_tokens': 1149}, 'model_name': 'gpt-3.5-turbo-0125', 'system_fingerprint': None, 'finish_reason': 'stop', 'logprobs': None}, id='run-6d2f67c3-c045-4f28-adf8-014576e1cbe9-0', usage_metadata={'input_tokens': 1100, 'output_tokens': 49, 'total_tokens': 1149})]}}\n"
     ]
    }
   ],
   "source": [
    "for s in agent_executor.stream(\n",
    "    {\"messages\": [HumanMessage(content=\"what's the salary of John?. List all of them including the full name and salary\")]}\n",
    "):\n",
    "    print(s)"
   ]
  },
  {
   "cell_type": "code",
   "execution_count": 8,
   "metadata": {},
   "outputs": [],
   "source": [
    "def show_final_message(response):\n",
    "    \"\"\"Print the last message from the response\"\"\"\n",
    "    message = response[\"messages\"][-1]\n",
    "    if isinstance(message, tuple):\n",
    "        print(message)\n",
    "    else:\n",
    "        message.pretty_print()\n"
   ]
  },
  {
   "cell_type": "code",
   "execution_count": 9,
   "metadata": {},
   "outputs": [
    {
     "name": "stdout",
     "output_type": "stream",
     "text": [
      "==================================\u001b[1m Ai Message \u001b[0m==================================\n",
      "\n",
      "John Chen's salary is $8,200.\n"
     ]
    }
   ],
   "source": [
    "show_final_message(agent_executor.invoke(\n",
    "    {\"messages\": [HumanMessage(content=\"What's John Chen's salary?\")]}\n",
    "    )\n",
    ")\n",
    "\n"
   ]
  },
  {
   "cell_type": "code",
   "execution_count": null,
   "metadata": {},
   "outputs": [],
   "source": [
    "show_final_message( agent_executor.invoke(\n",
    "    {\"messages\": [HumanMessage(content=\"What's John Chen's job title?. Give me the title name, not the title id\")]}\n",
    "    )\n",
    ")\n"
   ]
  },
  {
   "cell_type": "code",
   "execution_count": null,
   "metadata": {},
   "outputs": [],
   "source": [
    "show_final_message( agent_executor.invoke(\n",
    "    {\"messages\": [HumanMessage(content=\"What's the highest salary for accountants?.\")]}\n",
    "    )\n",
    ")\n",
    "\n",
    "show_final_message( agent_executor.invoke(\n",
    "    {\"messages\": [HumanMessage(content=\"What's the salary and position of Daniel?.\")]}\n",
    "    )\n",
    ")\n"
   ]
  },
  {
   "cell_type": "code",
   "execution_count": null,
   "metadata": {},
   "outputs": [],
   "source": [
    "show_final_message( agent_executor.invoke(\n",
    "    {\"messages\": [HumanMessage(content=\"Hi, I'm Ismael Sciarra. Lookup my salary in the employee's table\")]}\n",
    "    )\n",
    ")\n",
    "\n",
    "show_final_message( agent_executor.invoke(\n",
    "    {\"messages\": [HumanMessage(content=\"Who's my manager?.\")]}\n",
    "    )\n",
    ")\n"
   ]
  },
  {
   "cell_type": "markdown",
   "metadata": {},
   "source": [
    "## Adding Memory ##"
   ]
  },
  {
   "cell_type": "code",
   "execution_count": 10,
   "metadata": {},
   "outputs": [
    {
     "name": "stdout",
     "output_type": "stream",
     "text": [
      "================================\u001b[1m Human Message \u001b[0m=================================\n",
      "\n",
      "Hi, I'm Ismael Sciarra. Lookup my salary in the employee's table\n",
      "==================================\u001b[1m Ai Message \u001b[0m==================================\n",
      "Tool Calls:\n",
      "  sql_db_query (call_W4QkodRyB3DOd4gyLBUuiUo4)\n",
      " Call ID: call_W4QkodRyB3DOd4gyLBUuiUo4\n",
      "  Args:\n",
      "    query: SELECT salary FROM employees WHERE first_name = 'Ismael' AND last_name = 'Sciarra'\n",
      "=================================\u001b[1m Tool Message \u001b[0m=================================\n",
      "Name: sql_db_query\n",
      "\n",
      "[(Decimal('7700'),)]\n",
      "==================================\u001b[1m Ai Message \u001b[0m==================================\n",
      "\n",
      "Ismael Sciarra's salary is $7700.\n"
     ]
    }
   ],
   "source": [
    "from langgraph.checkpoint import MemorySaver\n",
    "agent_memory = create_react_agent(llm, tools, checkpointer=MemorySaver())\n",
    "config = {\"configurable\": {\"thread_id\": \"thread-1\"}}\n",
    "\n",
    "def print_stream(graph, inputs, config):\n",
    "    for s in agent_memory.stream(inputs, config, stream_mode=\"values\"):\n",
    "        message = s[\"messages\"][-1]\n",
    "        if isinstance(message, tuple):\n",
    "            print(message)\n",
    "        else:\n",
    "            message.pretty_print()\n",
    "\n",
    "inputs = {\"messages\": [(\"user\", \"Hi, I'm Ismael Sciarra. Lookup my salary in the employee's table\")]}\n",
    "print_stream(agent_memory, inputs, config)\n"
   ]
  },
  {
   "cell_type": "code",
   "execution_count": null,
   "metadata": {},
   "outputs": [],
   "source": [
    "config = {\"configurable\": {\"thread_id\": \"thread-2\"}} # new thread\n",
    "\n",
    "print_stream(agent_memory,  {\"messages\": [(\"user\", \"Who's my manager?\")]}, config)"
   ]
  },
  {
   "cell_type": "code",
   "execution_count": null,
   "metadata": {},
   "outputs": [],
   "source": [
    "config = {\"configurable\": {\"thread_id\": \"thread-1\"}} # back to the thread-1\n",
    "\n",
    "print_stream(agent_memory,  {\"messages\": [(\"user\", \"Who's my manager?\")]}, config)"
   ]
  },
  {
   "cell_type": "code",
   "execution_count": null,
   "metadata": {},
   "outputs": [],
   "source": [
    "print_stream(agent_memory,  {\"messages\": [(\"user\", \"Remember these three words: horse, moonlight, wizard\")]}, config)"
   ]
  },
  {
   "cell_type": "code",
   "execution_count": null,
   "metadata": {},
   "outputs": [],
   "source": [
    "print_stream(agent_memory,  {\"messages\": [(\"user\", \"Give me a sentence using those three words, my name and my salary\")]}, config)"
   ]
  },
  {
   "cell_type": "code",
   "execution_count": null,
   "metadata": {},
   "outputs": [],
   "source": [
    "print_stream(agent_memory,  {\"messages\": [(\"user\", \"find any employee making more money than me?\")]}, config)\n"
   ]
  },
  {
   "cell_type": "code",
   "execution_count": null,
   "metadata": {},
   "outputs": [],
   "source": [
    "config = {\"configurable\": {\"thread_id\": \"thread-3\"}}\n",
    "print_stream(agent_memory,  {\"messages\": [(\"user\", \"Who is the manager of Scyara?\")]}, config)\n",
    "\n"
   ]
  },
  {
   "cell_type": "markdown",
   "metadata": {},
   "source": [
    "## Dealing with high-cardinality columns ##"
   ]
  },
  {
   "cell_type": "code",
   "execution_count": null,
   "metadata": {},
   "outputs": [],
   "source": [
    "import ast\n",
    "import re\n",
    "\n",
    "\n",
    "def query_as_list(db, query):\n",
    "    res = db.run(query)\n",
    "    res = [el for sub in ast.literal_eval(res) for el in sub if el]\n",
    "    res = [re.sub(r\"\\b\\d+\\b\", \"\", string).strip() for string in res]\n",
    "    return list(set(res))\n",
    "\n",
    "\n",
    "employees = query_as_list(db, \"SELECT first_name || ' ' || last_name employee_name FROM Employees\")\n",
    "employees[:5]"
   ]
  },
  {
   "cell_type": "code",
   "execution_count": null,
   "metadata": {},
   "outputs": [],
   "source": [
    "from langchain.agents.agent_toolkits import create_retriever_tool\n",
    "from langchain_community.vectorstores import FAISS\n",
    "from langchain_openai import OpenAIEmbeddings\n",
    "\n",
    "vector_db = FAISS.from_texts(employees, OpenAIEmbeddings())\n",
    "retriever = vector_db.as_retriever(search_kwargs={\"k\": 5})\n",
    "description = \"\"\"Use to look up values to filter on. Input is an approximate spelling of the proper noun, output is \\\n",
    "valid proper nouns. Use the noun most similar to the search.\"\"\"\n",
    "retriever_tool = create_retriever_tool(\n",
    "    retriever,\n",
    "    name=\"search_proper_nouns\",\n",
    "    description=description,\n",
    ")"
   ]
  },
  {
   "cell_type": "code",
   "execution_count": null,
   "metadata": {},
   "outputs": [],
   "source": [
    "print(retriever_tool.invoke(\"Scyara\"))"
   ]
  },
  {
   "cell_type": "code",
   "execution_count": null,
   "metadata": {},
   "outputs": [],
   "source": [
    "system = \"\"\"You are an agent designed to interact with an Oracle SQL database.\n",
    "Given an input question, create a syntactically correct Oracle SQL query to run, then look at the results of the query and return the answer.\n",
    "Unless the user specifies a specific number of examples they wish to obtain, always limit your query to at most 5 results.\n",
    "You can order the results by a relevant column to return the most interesting examples in the database.\n",
    "Never query for all the columns from a specific table, only ask for the relevant columns given the question.\n",
    "You have access to tools for interacting with the database.\n",
    "Only use the below tools. Only use the information returned by the below tools to construct your final answer.\n",
    "You MUST double check your query before executing it. If you get an error while executing a query, rewrite the query and try again.\n",
    "\n",
    "DO NOT make any DML statements (INSERT, UPDATE, DELETE, DROP, TRUNCATE etc.) to the database.\n",
    "\n",
    "To start you should ALWAYS look at the tables in the database to see what you can query. \n",
    "Do NOT skip this step.\n",
    "When possible try to join tables to extend the retrieved information.\n",
    "Then you should query the schema of the most relevant tables.\n",
    "\n",
    "If you need to filter on a proper noun, you must ALWAYS first look up the filter value using the \"search_proper_nouns\" tool!\n",
    "Do not try to guess at the proper name - use this function to find similar ones.\n",
    "\"\"\"\n",
    "\n",
    "system_message = SystemMessage(content=system)\n",
    "tools.append(retriever_tool)\n",
    "new_agent = create_react_agent(llm, tools, messages_modifier=system_message, checkpointer=MemorySaver())"
   ]
  },
  {
   "cell_type": "code",
   "execution_count": null,
   "metadata": {},
   "outputs": [],
   "source": [
    "config = {\"configurable\": {\"thread_id\": \"thread-2\"}}\n",
    "\n",
    "for s in new_agent.stream(\n",
    "    {\"messages\": [HumanMessage(content=\"Who is the manager of Scyara?\")]}, config):\n",
    "    print(s)\n",
    "    print(\"----\")"
   ]
  },
  {
   "cell_type": "markdown",
   "metadata": {},
   "source": [
    "### Anonymizing ###\n",
    "https://python.langchain.com/v0.1/docs/guides/productionization/safety/presidio_data_anonymization/reversible/"
   ]
  },
  {
   "cell_type": "code",
   "execution_count": 11,
   "metadata": {},
   "outputs": [
    {
     "name": "stdout",
     "output_type": "stream",
     "text": [
      "\n",
      "\u001b[1m[\u001b[0m\u001b[34;49mnotice\u001b[0m\u001b[1;39;49m]\u001b[0m\u001b[39;49m A new release of pip is available: \u001b[0m\u001b[31;49m24.0\u001b[0m\u001b[39;49m -> \u001b[0m\u001b[32;49m24.1.2\u001b[0m\n",
      "\u001b[1m[\u001b[0m\u001b[34;49mnotice\u001b[0m\u001b[1;39;49m]\u001b[0m\u001b[39;49m To update, run: \u001b[0m\u001b[32;49mpip3 install --upgrade pip\u001b[0m\n",
      "Note: you may need to restart the kernel to use updated packages.\n"
     ]
    }
   ],
   "source": [
    "# Install necessary packages\n",
    "%pip install --upgrade --quiet  langchain langchain-experimental langchain-openai presidio-analyzer presidio-anonymizer spacy Faker\n",
    "# ! python -m spacy download en_core_web_lg"
   ]
  },
  {
   "cell_type": "code",
   "execution_count": 12,
   "metadata": {},
   "outputs": [
    {
     "name": "stdout",
     "output_type": "stream",
     "text": [
      "{'messages': [('user', \"Hi, I'm Timothy Hicks. Lookup my salary in the employee's table\")]}\n",
      "================================\u001b[1m Human Message \u001b[0m=================================\n",
      "\n",
      "Hi, I'm Timothy Hicks. Lookup my salary in the employee's table\n",
      "==================================\u001b[1m Ai Message \u001b[0m==================================\n",
      "Tool Calls:\n",
      "  sql_db_query (call_jcg6vSobiaSkCYtIHGoM3l70)\n",
      " Call ID: call_jcg6vSobiaSkCYtIHGoM3l70\n",
      "  Args:\n",
      "    query: SELECT salary FROM employees WHERE first_name = 'Timothy' AND last_name = 'Hicks'\n",
      "=================================\u001b[1m Tool Message \u001b[0m=================================\n",
      "Name: sql_db_query\n",
      "\n",
      "\n",
      "==================================\u001b[1m Ai Message \u001b[0m==================================\n",
      "\n",
      "I'm sorry, but I couldn't find any information on your salary in the database. It's possible that there is no record for 'Timothy Hicks' in the employees table. Please double-check the name or contact the database administrator for further assistance.\n"
     ]
    }
   ],
   "source": [
    "from langchain_experimental.data_anonymizer import PresidioReversibleAnonymizer\n",
    "\n",
    "anonymizer = PresidioReversibleAnonymizer(\n",
    "    analyzed_fields=[\"PERSON\", \"PHONE_NUMBER\", \"EMAIL_ADDRESS\"],\n",
    ")\n",
    "\n",
    "from langgraph.checkpoint import MemorySaver\n",
    "agent_memory = create_react_agent(llm, tools, checkpointer=MemorySaver())\n",
    "config = {\"configurable\": {\"thread_id\": \"anonym-thread\"}}\n",
    "\n",
    "def print_stream(graph, inputs, config):\n",
    "    for s in agent_memory.stream(inputs, config, stream_mode=\"values\"):\n",
    "        message = s[\"messages\"][-1]\n",
    "        if isinstance(message, tuple):\n",
    "            print(message)\n",
    "        else:\n",
    "            message.pretty_print()\n",
    "\n",
    "inputs = {\"messages\": [(\"user\", anonymizer.anonymize(\"Hi, I'm Ismael Sciarra. Lookup my salary in the employee's table\"))]}\n",
    "print(inputs)\n",
    "print_stream(agent_memory, inputs, config)\n"
   ]
  }
 ],
 "metadata": {
  "kernelspec": {
   "display_name": "Python 3",
   "language": "python",
   "name": "python3"
  },
  "language_info": {
   "codemirror_mode": {
    "name": "ipython",
    "version": 3
   },
   "file_extension": ".py",
   "mimetype": "text/x-python",
   "name": "python",
   "nbconvert_exporter": "python",
   "pygments_lexer": "ipython3",
   "version": "3.12.2"
  }
 },
 "nbformat": 4,
 "nbformat_minor": 2
}
