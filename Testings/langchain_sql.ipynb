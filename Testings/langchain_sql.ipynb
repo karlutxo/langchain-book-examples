{
 "cells": [
  {
   "cell_type": "markdown",
   "metadata": {},
   "source": [
    "# Build a Question/Answering system over SQL data #\n",
    "\n",
    "https://python.langchain.com/v0.2/docs/tutorials/sql_qa/"
   ]
  },
  {
   "cell_type": "code",
   "execution_count": 1,
   "metadata": {},
   "outputs": [],
   "source": [
    "%%capture --no-stderr\n",
    "%pip install --upgrade --quiet  langchain langchain-community langchain-openai"
   ]
  },
  {
   "cell_type": "code",
   "execution_count": 2,
   "metadata": {},
   "outputs": [],
   "source": [
    "import getpass\n",
    "import os\n",
    "\n",
    "if not os.environ.get(\"OPENAI_API_KEY\"):\n",
    "    os.environ[\"OPENAI_API_KEY\"] = getpass.getpass()\n",
    "\n",
    "# Comment out the below to opt-out of using LangSmith in this notebook. Not required.\n",
    "if not os.environ.get(\"LANGCHAIN_API_KEY\"):\n",
    "    os.environ[\"LANGCHAIN_API_KEY\"] = getpass.getpass()\n",
    "    os.environ[\"LANGCHAIN_TRACING_V2\"] = \"true\""
   ]
  },
  {
   "cell_type": "code",
   "execution_count": 38,
   "metadata": {},
   "outputs": [
    {
     "name": "stdout",
     "output_type": "stream",
     "text": [
      "sqlite\n",
      "['Album', 'Artist', 'Customer', 'Employee', 'Genre', 'Invoice', 'InvoiceLine', 'MediaType', 'Playlist', 'PlaylistTrack', 'Track']\n"
     ]
    },
    {
     "data": {
      "text/plain": [
       "\"[(1, 'AC/DC'), (2, 'Accept'), (3, 'Aerosmith'), (4, 'Alanis Morissette'), (5, 'Alice In Chains'), (6, 'Antônio Carlos Jobim'), (7, 'Apocalyptica'), (8, 'Audioslave'), (9, 'BackBeat'), (10, 'Billy Cobham')]\""
      ]
     },
     "execution_count": 38,
     "metadata": {},
     "output_type": "execute_result"
    }
   ],
   "source": [
    "\n",
    "from langchain_community.utilities import SQLDatabase\n",
    "\n",
    "db = SQLDatabase.from_uri(\"sqlite:///Chinook.db\")\n",
    "print(db.dialect)\n",
    "print(db.get_usable_table_names())\n",
    "db.run(\"SELECT * FROM Artist LIMIT 10;\")"
   ]
  },
  {
   "cell_type": "markdown",
   "metadata": {},
   "source": [
    "## Chains ##\n",
    "\n",
    "### Convert question to SQL query ###"
   ]
  },
  {
   "cell_type": "code",
   "execution_count": 5,
   "metadata": {},
   "outputs": [
    {
     "name": "stdout",
     "output_type": "stream",
     "text": [
      "Note: you may need to restart the kernel to use updated packages.\n"
     ]
    }
   ],
   "source": [
    "%pip install -qU langchain-openai\n",
    "\n",
    "from langchain_openai import ChatOpenAI\n",
    "\n",
    "llm = ChatOpenAI(model=\"gpt-3.5-turbo-0125\")\n",
    "\n"
   ]
  },
  {
   "cell_type": "code",
   "execution_count": 6,
   "metadata": {},
   "outputs": [
    {
     "data": {
      "text/plain": [
       "'SELECT COUNT(\"EmployeeId\") AS \"TotalEmployees\" FROM Employee'"
      ]
     },
     "execution_count": 6,
     "metadata": {},
     "output_type": "execute_result"
    }
   ],
   "source": [
    "from langchain.chains import create_sql_query_chain\n",
    "\n",
    "chain = create_sql_query_chain(llm, db)\n",
    "response = chain.invoke({\"question\": \"How many employees are there\"})\n",
    "response"
   ]
  },
  {
   "cell_type": "code",
   "execution_count": 7,
   "metadata": {},
   "outputs": [
    {
     "data": {
      "text/plain": [
       "'[(8,)]'"
      ]
     },
     "execution_count": 7,
     "metadata": {},
     "output_type": "execute_result"
    }
   ],
   "source": [
    "db.run(response)"
   ]
  },
  {
   "cell_type": "code",
   "execution_count": 8,
   "metadata": {},
   "outputs": [
    {
     "name": "stdout",
     "output_type": "stream",
     "text": [
      "You are a SQLite expert. Given an input question, first create a syntactically correct SQLite query to run, then look at the results of the query and return the answer to the input question.\n",
      "Unless the user specifies in the question a specific number of examples to obtain, query for at most 5 results using the LIMIT clause as per SQLite. You can order the results to return the most informative data in the database.\n",
      "Never query for all columns from a table. You must query only the columns that are needed to answer the question. Wrap each column name in double quotes (\") to denote them as delimited identifiers.\n",
      "Pay attention to use only the column names you can see in the tables below. Be careful to not query for columns that do not exist. Also, pay attention to which column is in which table.\n",
      "Pay attention to use date('now') function to get the current date, if the question involves \"today\".\n",
      "\n",
      "Use the following format:\n",
      "\n",
      "Question: Question here\n",
      "SQLQuery: SQL Query to run\n",
      "SQLResult: Result of the SQLQuery\n",
      "Answer: Final answer here\n",
      "\n",
      "Only use the following tables:\n",
      "\u001b[33;1m\u001b[1;3m{table_info}\u001b[0m\n",
      "\n",
      "Question: \u001b[33;1m\u001b[1;3m{input}\u001b[0m\n"
     ]
    }
   ],
   "source": [
    "chain.get_prompts()[0].pretty_print()"
   ]
  },
  {
   "cell_type": "code",
   "execution_count": 11,
   "metadata": {},
   "outputs": [
    {
     "data": {
      "text/plain": [
       "'[(8,)]'"
      ]
     },
     "execution_count": 11,
     "metadata": {},
     "output_type": "execute_result"
    }
   ],
   "source": [
    "from langchain_community.tools.sql_database.tool import QuerySQLDataBaseTool\n",
    "\n",
    "execute_query = QuerySQLDataBaseTool(db=db)\n",
    "write_query = create_sql_query_chain(llm, db)\n",
    "chain = write_query | execute_query\n",
    "chain.invoke({\"question\": \"How many employees are there\"})"
   ]
  },
  {
   "cell_type": "code",
   "execution_count": 12,
   "metadata": {},
   "outputs": [
    {
     "data": {
      "text/plain": [
       "'There are 8 employees.'"
      ]
     },
     "execution_count": 12,
     "metadata": {},
     "output_type": "execute_result"
    }
   ],
   "source": [
    "from operator import itemgetter\n",
    "\n",
    "from langchain_core.output_parsers import StrOutputParser\n",
    "from langchain_core.prompts import PromptTemplate\n",
    "from langchain_core.runnables import RunnablePassthrough\n",
    "\n",
    "answer_prompt = PromptTemplate.from_template(\n",
    "    \"\"\"Given the following user question, corresponding SQL query, and SQL result, answer the user question.\n",
    "\n",
    "Question: {question}\n",
    "SQL Query: {query}\n",
    "SQL Result: {result}\n",
    "Answer: \"\"\"\n",
    ")\n",
    "\n",
    "chain = (\n",
    "    RunnablePassthrough.assign(query=write_query).assign(\n",
    "        result=itemgetter(\"query\") | execute_query\n",
    "    )\n",
    "    | answer_prompt\n",
    "    | llm\n",
    "    | StrOutputParser()\n",
    ")\n",
    "\n",
    "chain.invoke({\"question\": \"How many employees are there\"})"
   ]
  },
  {
   "cell_type": "code",
   "execution_count": 15,
   "metadata": {},
   "outputs": [
    {
     "data": {
      "text/plain": [
       "'- Calgary\\n  - Nancy Edwards\\n  - Jane Peacock\\n  - Margaret Park\\n  - Steve Johnson\\n  - Michael Mitchell\\n- Edmonton\\n  - Andrew Adams\\n- Lethbridge\\n  - Robert King\\n  - Laura Callahan'"
      ]
     },
     "execution_count": 15,
     "metadata": {},
     "output_type": "execute_result"
    }
   ],
   "source": [
    "chain.invoke({\"question\": \"List all the employees grouped by their city. Use bulletpoints to show the result\"})"
   ]
  },
  {
   "cell_type": "markdown",
   "metadata": {},
   "source": [
    "## AGENTS ##\n",
    "\n",
    "https://python.langchain.com/v0.2/docs/tutorials/sql_qa/#agents"
   ]
  },
  {
   "cell_type": "code",
   "execution_count": 16,
   "metadata": {},
   "outputs": [
    {
     "data": {
      "text/plain": [
       "[QuerySQLDataBaseTool(description=\"Input to this tool is a detailed and correct SQL query, output is a result from the database. If the query is not correct, an error message will be returned. If an error is returned, rewrite the query, check the query, and try again. If you encounter an issue with Unknown column 'xxxx' in 'field list', use sql_db_schema to query the correct table fields.\", db=<langchain_community.utilities.sql_database.SQLDatabase object at 0x10600f890>),\n",
       " InfoSQLDatabaseTool(description='Input to this tool is a comma-separated list of tables, output is the schema and sample rows for those tables. Be sure that the tables actually exist by calling sql_db_list_tables first! Example Input: table1, table2, table3', db=<langchain_community.utilities.sql_database.SQLDatabase object at 0x10600f890>),\n",
       " ListSQLDatabaseTool(db=<langchain_community.utilities.sql_database.SQLDatabase object at 0x10600f890>),\n",
       " QuerySQLCheckerTool(description='Use this tool to double check if your query is correct before executing it. Always use this tool before executing a query with sql_db_query!', db=<langchain_community.utilities.sql_database.SQLDatabase object at 0x10600f890>, llm=ChatOpenAI(client=<openai.resources.chat.completions.Completions object at 0x10a434bf0>, async_client=<openai.resources.chat.completions.AsyncCompletions object at 0x10a435f70>, model_name='gpt-3.5-turbo-0125', openai_api_key=SecretStr('**********'), openai_proxy=''), llm_chain=LLMChain(prompt=PromptTemplate(input_variables=['dialect', 'query'], template='\\n{query}\\nDouble check the {dialect} query above for common mistakes, including:\\n- Using NOT IN with NULL values\\n- Using UNION when UNION ALL should have been used\\n- Using BETWEEN for exclusive ranges\\n- Data type mismatch in predicates\\n- Properly quoting identifiers\\n- Using the correct number of arguments for functions\\n- Casting to the correct data type\\n- Using the proper columns for joins\\n\\nIf there are any of the above mistakes, rewrite the query. If there are no mistakes, just reproduce the original query.\\n\\nOutput the final SQL query only.\\n\\nSQL Query: '), llm=ChatOpenAI(client=<openai.resources.chat.completions.Completions object at 0x10a434bf0>, async_client=<openai.resources.chat.completions.AsyncCompletions object at 0x10a435f70>, model_name='gpt-3.5-turbo-0125', openai_api_key=SecretStr('**********'), openai_proxy='')))]"
      ]
     },
     "execution_count": 16,
     "metadata": {},
     "output_type": "execute_result"
    }
   ],
   "source": [
    "from langchain_community.agent_toolkits import SQLDatabaseToolkit\n",
    "\n",
    "toolkit = SQLDatabaseToolkit(db=db, llm=llm)\n",
    "\n",
    "tools = toolkit.get_tools()\n",
    "\n",
    "tools"
   ]
  },
  {
   "cell_type": "code",
   "execution_count": 17,
   "metadata": {},
   "outputs": [],
   "source": [
    "from langchain_core.messages import SystemMessage\n",
    "\n",
    "SQL_PREFIX = \"\"\"You are an agent designed to interact with a SQL database.\n",
    "Given an input question, create a syntactically correct SQLite query to run, then look at the results of the query and return the answer.\n",
    "Unless the user specifies a specific number of examples they wish to obtain, always limit your query to at most 5 results.\n",
    "You can order the results by a relevant column to return the most interesting examples in the database.\n",
    "Never query for all the columns from a specific table, only ask for the relevant columns given the question.\n",
    "You have access to tools for interacting with the database.\n",
    "Only use the below tools. Only use the information returned by the below tools to construct your final answer.\n",
    "You MUST double check your query before executing it. If you get an error while executing a query, rewrite the query and try again.\n",
    "\n",
    "DO NOT make any DML statements (INSERT, UPDATE, DELETE, DROP etc.) to the database.\n",
    "\n",
    "To start you should ALWAYS look at the tables in the database to see what you can query.\n",
    "Do NOT skip this step.\n",
    "Then you should query the schema of the most relevant tables.\"\"\"\n",
    "\n",
    "system_message = SystemMessage(content=SQL_PREFIX)"
   ]
  },
  {
   "cell_type": "code",
   "execution_count": 18,
   "metadata": {},
   "outputs": [],
   "source": [
    "%%capture --no-stderr\n",
    "%pip install --upgrade --quiet langgraph"
   ]
  },
  {
   "cell_type": "code",
   "execution_count": 19,
   "metadata": {},
   "outputs": [],
   "source": [
    "from langchain_core.messages import HumanMessage\n",
    "from langgraph.prebuilt import create_react_agent\n",
    "\n",
    "agent_executor = create_react_agent(llm, tools, messages_modifier=system_message)"
   ]
  },
  {
   "cell_type": "code",
   "execution_count": 20,
   "metadata": {},
   "outputs": [
    {
     "name": "stdout",
     "output_type": "stream",
     "text": [
      "{'agent': {'messages': [AIMessage(content='', additional_kwargs={'tool_calls': [{'id': 'call_I1N5clhNgNuNRGZl2dZToO3L', 'function': {'arguments': '{\"query\":\"SELECT c.Country, SUM(i.Total) as Total_spent FROM customers c JOIN invoices i ON c.CustomerId = i.CustomerId GROUP BY c.Country ORDER BY Total_spent DESC LIMIT 1\"}', 'name': 'sql_db_query'}, 'type': 'function'}]}, response_metadata={'token_usage': {'completion_tokens': 53, 'prompt_tokens': 557, 'total_tokens': 610}, 'model_name': 'gpt-3.5-turbo-0125', 'system_fingerprint': None, 'finish_reason': 'tool_calls', 'logprobs': None}, id='run-6acf49d2-6386-4a38-a78b-7cd301030387-0', tool_calls=[{'name': 'sql_db_query', 'args': {'query': 'SELECT c.Country, SUM(i.Total) as Total_spent FROM customers c JOIN invoices i ON c.CustomerId = i.CustomerId GROUP BY c.Country ORDER BY Total_spent DESC LIMIT 1'}, 'id': 'call_I1N5clhNgNuNRGZl2dZToO3L'}], usage_metadata={'input_tokens': 557, 'output_tokens': 53, 'total_tokens': 610})]}}\n",
      "----\n",
      "{'tools': {'messages': [ToolMessage(content='Error: (sqlite3.OperationalError) no such table: customers\\n[SQL: SELECT c.Country, SUM(i.Total) as Total_spent FROM customers c JOIN invoices i ON c.CustomerId = i.CustomerId GROUP BY c.Country ORDER BY Total_spent DESC LIMIT 1]\\n(Background on this error at: https://sqlalche.me/e/20/e3q8)', name='sql_db_query', tool_call_id='call_I1N5clhNgNuNRGZl2dZToO3L')]}}\n",
      "----\n",
      "{'agent': {'messages': [AIMessage(content='', additional_kwargs={'tool_calls': [{'id': 'call_Q84vDLgeUlzNIYZsOld48UU8', 'function': {'arguments': '{}', 'name': 'sql_db_list_tables'}, 'type': 'function'}]}, response_metadata={'token_usage': {'completion_tokens': 12, 'prompt_tokens': 699, 'total_tokens': 711}, 'model_name': 'gpt-3.5-turbo-0125', 'system_fingerprint': None, 'finish_reason': 'tool_calls', 'logprobs': None}, id='run-12a28402-ae30-4efe-9f75-408e7ed99c7f-0', tool_calls=[{'name': 'sql_db_list_tables', 'args': {}, 'id': 'call_Q84vDLgeUlzNIYZsOld48UU8'}], usage_metadata={'input_tokens': 699, 'output_tokens': 12, 'total_tokens': 711})]}}\n",
      "----\n",
      "{'tools': {'messages': [ToolMessage(content='Album, Artist, Customer, Employee, Genre, Invoice, InvoiceLine, MediaType, Playlist, PlaylistTrack, Track', name='sql_db_list_tables', tool_call_id='call_Q84vDLgeUlzNIYZsOld48UU8')]}}\n",
      "----\n",
      "{'agent': {'messages': [AIMessage(content='', additional_kwargs={'tool_calls': [{'id': 'call_FWXTKXbRga2uk31magSXXZkG', 'function': {'arguments': '{\"table_names\":\"Customer, Invoice\"}', 'name': 'sql_db_schema'}, 'type': 'function'}]}, response_metadata={'token_usage': {'completion_tokens': 18, 'prompt_tokens': 744, 'total_tokens': 762}, 'model_name': 'gpt-3.5-turbo-0125', 'system_fingerprint': None, 'finish_reason': 'tool_calls', 'logprobs': None}, id='run-5c163bfe-e7c7-4405-929e-00a38281f05e-0', tool_calls=[{'name': 'sql_db_schema', 'args': {'table_names': 'Customer, Invoice'}, 'id': 'call_FWXTKXbRga2uk31magSXXZkG'}], usage_metadata={'input_tokens': 744, 'output_tokens': 18, 'total_tokens': 762})]}}\n",
      "----\n",
      "{'tools': {'messages': [ToolMessage(content='\\nCREATE TABLE \"Customer\" (\\n\\t\"CustomerId\" INTEGER NOT NULL, \\n\\t\"FirstName\" NVARCHAR(40) NOT NULL, \\n\\t\"LastName\" NVARCHAR(20) NOT NULL, \\n\\t\"Company\" NVARCHAR(80), \\n\\t\"Address\" NVARCHAR(70), \\n\\t\"City\" NVARCHAR(40), \\n\\t\"State\" NVARCHAR(40), \\n\\t\"Country\" NVARCHAR(40), \\n\\t\"PostalCode\" NVARCHAR(10), \\n\\t\"Phone\" NVARCHAR(24), \\n\\t\"Fax\" NVARCHAR(24), \\n\\t\"Email\" NVARCHAR(60) NOT NULL, \\n\\t\"SupportRepId\" INTEGER, \\n\\tPRIMARY KEY (\"CustomerId\"), \\n\\tFOREIGN KEY(\"SupportRepId\") REFERENCES \"Employee\" (\"EmployeeId\")\\n)\\n\\n/*\\n3 rows from Customer table:\\nCustomerId\\tFirstName\\tLastName\\tCompany\\tAddress\\tCity\\tState\\tCountry\\tPostalCode\\tPhone\\tFax\\tEmail\\tSupportRepId\\n1\\tLuís\\tGonçalves\\tEmbraer - Empresa Brasileira de Aeronáutica S.A.\\tAv. Brigadeiro Faria Lima, 2170\\tSão José dos Campos\\tSP\\tBrazil\\t12227-000\\t+55 (12) 3923-5555\\t+55 (12) 3923-5566\\tluisg@embraer.com.br\\t3\\n2\\tLeonie\\tKöhler\\tNone\\tTheodor-Heuss-Straße 34\\tStuttgart\\tNone\\tGermany\\t70174\\t+49 0711 2842222\\tNone\\tleonekohler@surfeu.de\\t5\\n3\\tFrançois\\tTremblay\\tNone\\t1498 rue Bélanger\\tMontréal\\tQC\\tCanada\\tH2G 1A7\\t+1 (514) 721-4711\\tNone\\tftremblay@gmail.com\\t3\\n*/\\n\\n\\nCREATE TABLE \"Invoice\" (\\n\\t\"InvoiceId\" INTEGER NOT NULL, \\n\\t\"CustomerId\" INTEGER NOT NULL, \\n\\t\"InvoiceDate\" DATETIME NOT NULL, \\n\\t\"BillingAddress\" NVARCHAR(70), \\n\\t\"BillingCity\" NVARCHAR(40), \\n\\t\"BillingState\" NVARCHAR(40), \\n\\t\"BillingCountry\" NVARCHAR(40), \\n\\t\"BillingPostalCode\" NVARCHAR(10), \\n\\t\"Total\" NUMERIC(10, 2) NOT NULL, \\n\\tPRIMARY KEY (\"InvoiceId\"), \\n\\tFOREIGN KEY(\"CustomerId\") REFERENCES \"Customer\" (\"CustomerId\")\\n)\\n\\n/*\\n3 rows from Invoice table:\\nInvoiceId\\tCustomerId\\tInvoiceDate\\tBillingAddress\\tBillingCity\\tBillingState\\tBillingCountry\\tBillingPostalCode\\tTotal\\n1\\t2\\t2021-01-01 00:00:00\\tTheodor-Heuss-Straße 34\\tStuttgart\\tNone\\tGermany\\t70174\\t1.98\\n2\\t4\\t2021-01-02 00:00:00\\tUllevålsveien 14\\tOslo\\tNone\\tNorway\\t0171\\t3.96\\n3\\t8\\t2021-01-03 00:00:00\\tGrétrystraat 63\\tBrussels\\tNone\\tBelgium\\t1000\\t5.94\\n*/', name='sql_db_schema', tool_call_id='call_FWXTKXbRga2uk31magSXXZkG')]}}\n",
      "----\n",
      "{'agent': {'messages': [AIMessage(content='', additional_kwargs={'tool_calls': [{'id': 'call_npUHrSTJMYzjtLc57dFYqAcS', 'function': {'arguments': '{\"query\":\"SELECT c.Country, SUM(i.Total) AS Total_spent FROM Customer c JOIN Invoice i ON c.CustomerId = i.CustomerId GROUP BY c.Country ORDER BY Total_spent DESC LIMIT 1\"}', 'name': 'sql_db_query'}, 'type': 'function'}]}, response_metadata={'token_usage': {'completion_tokens': 53, 'prompt_tokens': 1455, 'total_tokens': 1508}, 'model_name': 'gpt-3.5-turbo-0125', 'system_fingerprint': None, 'finish_reason': 'tool_calls', 'logprobs': None}, id='run-d5986ea2-3a01-4849-9a15-2517f655296b-0', tool_calls=[{'name': 'sql_db_query', 'args': {'query': 'SELECT c.Country, SUM(i.Total) AS Total_spent FROM Customer c JOIN Invoice i ON c.CustomerId = i.CustomerId GROUP BY c.Country ORDER BY Total_spent DESC LIMIT 1'}, 'id': 'call_npUHrSTJMYzjtLc57dFYqAcS'}], usage_metadata={'input_tokens': 1455, 'output_tokens': 53, 'total_tokens': 1508})]}}\n",
      "----\n",
      "{'tools': {'messages': [ToolMessage(content=\"[('USA', 523.06)]\", name='sql_db_query', tool_call_id='call_npUHrSTJMYzjtLc57dFYqAcS')]}}\n",
      "----\n",
      "{'agent': {'messages': [AIMessage(content='Customers from the USA spent the most, with a total amount spent of $523.06.', response_metadata={'token_usage': {'completion_tokens': 20, 'prompt_tokens': 1526, 'total_tokens': 1546}, 'model_name': 'gpt-3.5-turbo-0125', 'system_fingerprint': None, 'finish_reason': 'stop', 'logprobs': None}, id='run-f37aeaeb-33be-4ef5-8898-6fc7be2f597e-0', usage_metadata={'input_tokens': 1526, 'output_tokens': 20, 'total_tokens': 1546})]}}\n",
      "----\n"
     ]
    }
   ],
   "source": [
    "for s in agent_executor.stream(\n",
    "    {\"messages\": [HumanMessage(content=\"Which country's customers spent the most?\")]}\n",
    "):\n",
    "    print(s)\n",
    "    print(\"----\")"
   ]
  },
  {
   "cell_type": "code",
   "execution_count": 21,
   "metadata": {},
   "outputs": [
    {
     "name": "stdout",
     "output_type": "stream",
     "text": [
      "{'agent': {'messages': [AIMessage(content='', additional_kwargs={'tool_calls': [{'id': 'call_1WBuqCVOl0Ked2jZRVIDIJva', 'function': {'arguments': '{\"table_names\":\"playlisttrack\"}', 'name': 'sql_db_schema'}, 'type': 'function'}]}, response_metadata={'token_usage': {'completion_tokens': 17, 'prompt_tokens': 554, 'total_tokens': 571}, 'model_name': 'gpt-3.5-turbo-0125', 'system_fingerprint': None, 'finish_reason': 'tool_calls', 'logprobs': None}, id='run-aa274f52-d474-45f6-8883-4f06d0ccc8f4-0', tool_calls=[{'name': 'sql_db_schema', 'args': {'table_names': 'playlisttrack'}, 'id': 'call_1WBuqCVOl0Ked2jZRVIDIJva'}], usage_metadata={'input_tokens': 554, 'output_tokens': 17, 'total_tokens': 571})]}}\n",
      "----\n",
      "{'tools': {'messages': [ToolMessage(content=\"Error: table_names {'playlisttrack'} not found in database\", name='sql_db_schema', tool_call_id='call_1WBuqCVOl0Ked2jZRVIDIJva')]}}\n",
      "----\n",
      "{'agent': {'messages': [AIMessage(content='', additional_kwargs={'tool_calls': [{'id': 'call_rJf58jfZB0M9o0RXM3lGMzd5', 'function': {'arguments': '{}', 'name': 'sql_db_list_tables'}, 'type': 'function'}]}, response_metadata={'token_usage': {'completion_tokens': 12, 'prompt_tokens': 592, 'total_tokens': 604}, 'model_name': 'gpt-3.5-turbo-0125', 'system_fingerprint': None, 'finish_reason': 'tool_calls', 'logprobs': None}, id='run-a4e26be5-8dd6-4081-aeca-30d4085bceae-0', tool_calls=[{'name': 'sql_db_list_tables', 'args': {}, 'id': 'call_rJf58jfZB0M9o0RXM3lGMzd5'}], usage_metadata={'input_tokens': 592, 'output_tokens': 12, 'total_tokens': 604})]}}\n",
      "----\n",
      "{'tools': {'messages': [ToolMessage(content='Album, Artist, Customer, Employee, Genre, Invoice, InvoiceLine, MediaType, Playlist, PlaylistTrack, Track', name='sql_db_list_tables', tool_call_id='call_rJf58jfZB0M9o0RXM3lGMzd5')]}}\n",
      "----\n",
      "{'agent': {'messages': [AIMessage(content='', additional_kwargs={'tool_calls': [{'id': 'call_KPfMjXlFUlikjnJj9WlkPIPh', 'function': {'arguments': '{\"table_names\":\"PlaylistTrack\"}', 'name': 'sql_db_schema'}, 'type': 'function'}]}, response_metadata={'token_usage': {'completion_tokens': 17, 'prompt_tokens': 637, 'total_tokens': 654}, 'model_name': 'gpt-3.5-turbo-0125', 'system_fingerprint': None, 'finish_reason': 'tool_calls', 'logprobs': None}, id='run-97df77c0-bad8-477a-8d59-03a15ea364a3-0', tool_calls=[{'name': 'sql_db_schema', 'args': {'table_names': 'PlaylistTrack'}, 'id': 'call_KPfMjXlFUlikjnJj9WlkPIPh'}], usage_metadata={'input_tokens': 637, 'output_tokens': 17, 'total_tokens': 654})]}}\n",
      "----\n",
      "{'tools': {'messages': [ToolMessage(content='\\nCREATE TABLE \"PlaylistTrack\" (\\n\\t\"PlaylistId\" INTEGER NOT NULL, \\n\\t\"TrackId\" INTEGER NOT NULL, \\n\\tPRIMARY KEY (\"PlaylistId\", \"TrackId\"), \\n\\tFOREIGN KEY(\"TrackId\") REFERENCES \"Track\" (\"TrackId\"), \\n\\tFOREIGN KEY(\"PlaylistId\") REFERENCES \"Playlist\" (\"PlaylistId\")\\n)\\n\\n/*\\n3 rows from PlaylistTrack table:\\nPlaylistId\\tTrackId\\n1\\t3402\\n1\\t3389\\n1\\t3390\\n*/', name='sql_db_schema', tool_call_id='call_KPfMjXlFUlikjnJj9WlkPIPh')]}}\n",
      "----\n",
      "{'agent': {'messages': [AIMessage(content=\"The `PlaylistTrack` table has the following columns:\\n- PlaylistId (INTEGER, NOT NULL)\\n- TrackId (INTEGER, NOT NULL)\\n\\nIt has a composite primary key on the columns PlaylistId and TrackId. There are foreign key constraints on the TrackId column referencing the Track table's TrackId column, and on the PlaylistId column referencing the Playlist table's PlaylistId column.\\n\\nHere are 3 rows from the `PlaylistTrack` table:\\n- PlaylistId: 1, TrackId: 3402\\n- PlaylistId: 1, TrackId: 3389\\n- PlaylistId: 1, TrackId: 3390\", response_metadata={'token_usage': {'completion_tokens': 133, 'prompt_tokens': 767, 'total_tokens': 900}, 'model_name': 'gpt-3.5-turbo-0125', 'system_fingerprint': None, 'finish_reason': 'stop', 'logprobs': None}, id='run-e12dfc87-9987-446c-87af-8cf4833c65c5-0', usage_metadata={'input_tokens': 767, 'output_tokens': 133, 'total_tokens': 900})]}}\n",
      "----\n"
     ]
    }
   ],
   "source": [
    "for s in agent_executor.stream(\n",
    "    {\"messages\": [HumanMessage(content=\"Describe the playlisttrack table\")]}\n",
    "):\n",
    "    print(s)\n",
    "    print(\"----\")"
   ]
  },
  {
   "cell_type": "markdown",
   "metadata": {},
   "source": [
    "## Dealing with high-cardinality columns ##\n",
    "\n",
    "https://python.langchain.com/v0.2/docs/tutorials/sql_qa/#dealing-with-high-cardinality-columns"
   ]
  },
  {
   "cell_type": "code",
   "execution_count": 23,
   "metadata": {},
   "outputs": [
    {
     "name": "stdout",
     "output_type": "stream",
     "text": [
      "['Stevie Ray Vaughan & Double Trouble', 'Bruce Dickinson', 'A Cor Do Som', 'Gerald Moore', 'Battlestar Galactica', 'Raimundos', 'Foo Fighters', 'Elis Regina', 'Christina Aguilera featuring BigElf', 'Orchestre Révolutionnaire et Romantique & John Eliot Gardiner', \"Christopher O'Riley\", 'Sabotage E Instituto', 'Hilary Hahn, Jeffrey Kahane, Los Angeles Chamber Orchestra & Margaret Batjer', 'Vinícius De Moraes & Baden Powell', 'Cidade Negra', 'Jota Quest', 'Funk Como Le Gusta', 'Hermeto Pascoal', 'Black Label Society', 'Ben Harper', 'Os Paralamas Do Sucesso', 'Xis', 'Temple of the Dog', 'The Tea Party', 'The Clash', 'Chris Cornell', 'Julian Bream', 'Motörhead & Girlschool', \"Jack's Mannequin & Mick Fleetwood\", 'The Posies', 'Cake', 'The  Cellists of The Berlin Philharmonic', 'Milton Nascimento', \"Paul D'Ianno\", 'Red Hot Chili Peppers', 'C. Monteverdi, Nigel Rogers - Chiaroscuro; London Baroque; London Cornett & Sackbu', 'Wilhelm Kempff', 'Yo-Yo Ma', 'Calexico', 'Chico Buarque', 'Chicago Symphony Chorus, Chicago Symphony Orchestra & Sir Georg Solti', 'Vinícius De Moraes', 'Olodum', 'The Black Crowes', 'Santana Feat. The Project G&B', 'Sir Georg Solti & Wiener Philharmoniker', 'Amy Winehouse', 'Santana Feat. Eagle-Eye Cherry', \"Youssou N'Dour\", 'UB40', 'Charlie Brown Jr.', 'Chico Science & Nação Zumbi', 'Santana Feat. Everlast', 'Jamiroquai', 'The Police', 'U2', 'Vinícius E Qurteto Em Cy', 'Seu Jorge', 'Green Day', 'JET', 'Scorpions', 'Led Zeppelin', 'Buddy Guy', 'Metallica', 'Cássia Eller', 'Joe Satriani', 'The Postal Service', 'Men At Work', \"Aerosmith & Sierra Leone's Refugee Allstars\", 'Djavan', 'Barry Wordsworth & BBC Concert Orchestra', 'Leonard Bernstein & New York Philharmonic', 'Martin Roscoe', 'Marillion', 'Mötley Crüe', 'Philharmonia Orchestra & Sir Neville Marriner', 'Pedro Luís & A Parede', 'Peter Tosh', 'Stone Temple Pilots', 'Heroes', 'R.E.M.', 'Gonzaguinha', 'Luciana Souza/Romero Lubambo', 'Orchestra of The Age of Enlightenment', 'Pedro Luís E A Parede', 'The Doors', \"Charles Dutoit & L'Orchestre Symphonique de Montréal\", 'Jackson Browne', 'Alice In Chains', 'Ozzy Osbourne', 'Soundgarden', 'Os Mutantes', 'Tim Maia', 'Black Eyed Peas', 'Frank Zappa & Captain Beefheart', 'Nega Gizza', 'David Coverdale', 'Jaguares', 'Jorge Ben', 'Skank', 'Deep Purple', 'The Who', 'Academy of St. Martin in the Fields & Sir Neville Marriner', 'Yehudi Menuhin', 'Eric Clapton', 'Fernanda Porto', 'Regina Spektor', 'Edo de Waart & San Francisco Symphony', 'Baby Consuelo', 'Lulu Santos', 'Os Cariocas', 'Corinne Bailey Rae', 'Gustavo & Andres Veiga & Salazar', 'Academy of St. Martin in the Fields, Sir Neville Marriner & William Bennett', 'Body Count', 'R.E.M. Feat. KRS-One', 'Habib Koité and Bamada', 'Velvet Revolver', 'Santana Feat. Dave Matthews', 'Milton Nascimento & Bebeto', 'Santana Feat. Maná', 'Dhani Harrison & Jakob Dylan', 'Accept', 'Michael Tilson Thomas & San Francisco Symphony', 'Aaron Copland & London Symphony Orchestra', 'Jack Johnson', 'Nirvana', 'Scholars Baroque Ensemble', 'Whitesnake', 'Boston Symphony Orchestra & Seiji Ozawa', 'Billy Cobham', 'Terry Bozzio, Tony Levin & Steve Stevens', 'Itzhak Perlman', 'Alberto Turco & Nova Schola Gregoriana', 'Academy of St. Martin in the Fields, Sir Neville Marriner & Thurston Dart', 'Matisyahu', 'Göteborgs Symfoniker & Neeme Järvi', 'Equale Brass Ensemble, John Eliot Gardiner & Munich Monteverdi Orchestra and Choir', 'Fretwork', 'Adrian Leaper & Doreen de Feis', 'Godsmack', 'Los Lonely Boys', 'Berliner Philharmoniker & Hans Rosbaud', 'Van Halen', 'Page & Plant', 'Berliner Philharmoniker, Claudio Abbado & Sabine Meyer', 'The Rolling Stones', 'Sergei Prokofiev & Yuri Temirkanov', 'Audioslave', 'English Concert & Trevor Pinnock', 'Santana Feat. Eric Clapton', 'Alanis Morissette', 'Santana', 'Titãs', 'Kid Abelha', 'Iron Maiden', 'Edson, DJ Marky & DJ Patife Featuring Fernanda Porto', 'Passengers', 'Def Leppard', 'Mela Tenenbaum, Pro Musica Prague & Richard Kapp', 'Les Arts Florissants & William Christie', 'Aquaman', 'Academy of St. Martin in the Fields Chamber Ensemble & Sir Neville Marriner', 'Maurizio Pollini', 'Emanuel Ax, Eugene Ormandy & Philadelphia Orchestra', 'Battlestar Galactica (Classic)', 'Otto Klemperer & Philharmonia Orchestra', 'Azymuth', 'Lenny Kravitz', 'Gene Krupa', 'Ton Koopman', 'Rush', 'Antal Doráti & London Symphony Orchestra', 'Barão Vermelho', 'Jorge Vercilo', 'Royal Philharmonic Orchestra & Sir Thomas Beecham', 'Sir Georg Solti, Sumi Jo & Wiener Philharmoniker', 'Rodox', 'Gilberto Gil', 'Michele Campanella', 'Marvin Gaye', \"The King's Singers\", 'Antônio Carlos Jobim', 'Choir Of Westminster Abbey & Simon Preston', \"Kent Nagano and Orchestre de l'Opéra de Lyon\", 'Vinícius E Odette Lara', 'Pearl Jam', 'House Of Pain', 'Mônica Marianno', 'Otto', 'O Terço', 'James Levine', 'Emerson String Quartet', 'Incognito', 'Ney Matogrosso', \"Guns N' Roses\", 'BackBeat', 'João Gilberto', 'Raul Seixas', 'AC/DC', 'Banda Black Rio', 'The Flaming Lips', 'Eugene Ormandy', 'O Rappa', 'Zeca Pagodinho', 'DJ Dolores & Orchestra Santa Massa', 'Roger Norrington, London Classical Players', 'Aerosmith', 'Faith No More', 'Marisa Monte', 'Academy of St. Martin in the Fields, John Birch, Sir Neville Marriner & Sylvia McNair', 'Anne-Sophie Mutter, Herbert Von Karajan & Wiener Philharmoniker', 'Creedence Clearwater Revival', 'Karsh Kale', 'Marcos Valle', 'Nando Reis', 'The Office', 'Jimi Hendrix', 'Black Sabbath', 'Mundo Livre S/A', 'Gustav Mahler', 'Santana Feat. Rob Thomas', 'Nicolaus Esterhazy Sinfonia', 'Nash Ensemble', 'System Of A Down', 'Queen', 'Los Hermanos', 'Frank Sinatra', 'Kiss', 'Avril Lavigne', 'Snow Patrol', 'Luciano Pavarotti', 'Chor der Wiener Staatsoper, Herbert Von Karajan & Wiener Philharmoniker', 'Lost', 'Various Artists', 'London Symphony Orchestra & Sir Charles Mackerras', 'Big & Rich', 'Planet Hemp', 'The Cult', 'Dread Zeppelin', 'Aaron Goldberg', 'Dennis Chambers', 'Chicago Symphony Orchestra & Fritz Reiner', 'Miles Davis', 'Motörhead', 'Pink Floyd', 'James Brown', 'Santana Feat. Lauryn Hill & Cee-Lo', 'Apocalyptica', 'Philip Glass Ensemble', 'Nação Zumbi', 'Bebel Gilberto', 'Vinicius, Toquinho & Quarteto Em Cy', 'Stereo Maracana', 'Britten Sinfonia, Ivor Bolton & Lesley Garrett', 'Felix Schmidt, London Symphony Orchestra & Rafael Frühbeck de Burgos', 'João Suplicy', 'Legião Urbana', 'Falamansa', 'Caetano Veloso', 'Herbert Von Karajan, Mirella Freni & Wiener Philharmoniker', 'R.E.M. Feat. Kate Pearson', 'Sandra De Sá', 'Spyro Gyra', 'Instituto', 'Ed Motta', 'Cláudio Zoli', 'Aisha Duo', 'Simply Red', 'Richard Marlow & The Choir of Trinity College, Cambridge', 'Berliner Philharmoniker & Herbert Von Karajan', 'Smashing Pumpkins', 'Toquinho & Vinícius', 'Judas Priest', 'Luiz Melodia']\n",
      "['Living After Midnight', \"Great Recordings of the Century: Paganini's  Caprices\", 'Alcohol Fueled Brewtality Live! [Disc ]', 'SCRIABIN: Vers la flamme', 'Album Of The Year', 'Quanta Gente Veio Ver (Live)', 'Jota Quest-', 'Greatest Kiss', '20th Century Masters - The Millennium Collection: The Best of Scorpions', \"Knocking at Your Back Door: The Best Of Deep Purple in the 's\", 'In Through The Out Door', 'Ride The Lightning', 'Frank', 'Weill: The Seven Deadly Sins', 'In Your Honor [Disc ]', 'The Number of The Beast', 'Nevermind', '[] Black Light Syndrome', 'Szymanowski: Piano Works, Vol.', 'Achtung Baby', 'ReLoad', 'Unplugged [Live]', 'MK III The Final Concerts [Disc ]', \"Up An' Atom\", 'Bartok: Violin & Viola Concertos', 'Use Your Illusion I', 'Pachelbel: Canon & Gigue', 'Instant Karma: The Amnesty International Campaign to Save Darfur', 'Diary of a Madman (Remastered)', 'Battlestar Galactica, Season', 'Allegri: Miserere', 'Sir Neville Marriner: A Celebration', 'Santana - As Years Go By', 'Stormbringer', 'Mais Do Mesmo', 'The Best of Beethoven', 'Transmission', 'For Those About To Rock We Salute You', 'Audioslave', 'Worlds', 'Surfing with the Alien (Remastered)', 'House of Pain', 'A-Sides', 'As Canções de Eu Tu Eles', 'Ace Of Spades', \"Mendelssohn: A Midsummer Night's Dream\", 'Let There Be Rock', 'Maquinarama', 'Powerslave', 'Pearl Jam', 'A TempestadeTempestade Ou O Livro Dos Dias', 'Rattle And Hum', 'Live After Death', 'Prokofiev: Symphony No.', 'Minha Historia', 'B-Sides -', 'Van Halen III', 'The Real Thing', 'Elgar: Cello Concerto & Vaughan Williams: Fantasias', 'Back to Black', 'The Best Of Buddy Guy - The Millenium Collection', 'Tribute', 'Lulu Santos - RCA  Anos De Música - Álbum', 'Cássia Eller - Sem Limite [Disc ]', 'Fauré: Requiem, Ravel: Pavane & Others', 'Virtual XI', 'Górecki: Symphony No.', 'Haydn: Symphonies  -', 'The Ultimate Relexation Album', 'Are You Experienced?', 'Santana Live', 'News Of The World', \"Monteverdi: L'Orfeo\", 'The Song Remains The Same (Disc )', 'Handel: The Messiah (Highlights)', 'Deixa Entrar', 'Carnaval', 'Chronicle, Vol.', 'Vs.', 'Strauss: Waltzes', 'Mozart: Symphonies Nos.  &', 'My Generation - The Very Best Of The Who', \"Kill 'Em All\", 'BBC Sessions [Disc ] [Live]', 'Bizet: Carmen Highlights', 'Greatest Hits II', 'Come Taste The Band', 'No Security', 'Facelift', 'Voodoo Lounge', 'Live At Donington  (Disc )', 'Respighi:Pines of Rome', 'Bach: The Brandenburg Concertos', 'Greatest Hits', 'The Final Concerts (Disc )', 'Brave New World', 'Mozart Gala: Famous Arias', 'The Doors', 'The Singles', 'Meus Momentos', 'The Battle Rages On', 'St. Anger', 'Chemical Wedding', 'Heroes, Season', 'Prenda Minha', 'Rock In Rio [CD2]', 'Physical Graffiti [Disc ]', 'Wagner: Favourite Overtures', 'Judas : B-Sides and Rarities', 'Seventh Son of a Seventh Son', 'The Essential Miles Davis [Disc ]', 'Great Recordings of the Century - Mahler: Das Lied von der Erde', 'Misplaced Childhood', 'Van Halen', 'Angel Dust', 'Master Of Puppets', 'Pure Cult: The Best Of The Cult (For Rockers, Ravers, Lovers & Sinners) [UK]', 'Into The Light', 'Zooropa', 'Adorate Deum: Gregorian Chant from the Proper of the Mass', 'Bach: Orchestral Suites Nos.  -', 'No Prayer For The Dying', 'Battlestar Galactica (Classic), Season', 'The Best Of Billy Cobham', 'Killers', 'Plays Metallica By Four Cellos', 'Blue Moods', 'Heart of the Night', 'The Beast Live', 'Beethoven Piano Sonatas: Moonlight & Pastorale', 'Purcell: Music for the Queen Mary', 'Quiet Songs', 'Out Of Exile', 'International Superhits', 'Seek And Shall Find: More Of The Best (-)', 'Walking Into Clarksdale', 'Riot Act', 'Prokofiev: Romeo & Juliet', 'Supernatural', 'Rock In Rio [CD1]', 'Diver Down', 'One By One', 'Charpentier: Divertissements, Airs & Concerts', 'Armada: Music from the Courts of England and Spain', \"All That You Can't Leave Behind\", 'Bark at the Moon (Remastered)', 'Garage Inc. (Disc )', 'English Renaissance', 'Acústico', 'American Idiot', 'In Step', 'My Way: The Best Of Frank Sinatra [Disc ]', 'Revelations', 'Vozes do MPB', 'Elis Regina-Minha História', 'New Adventures In Hi-Fi', 'Restless and Wild', 'South American Getaway', 'Live On Two Legs [Live]', 'Ao Vivo [IMPORT]', 'Machine Head', \"Tchaikovsky:  Festival Overture, Op., Capriccio Italien & Beethoven: Wellington's Victory\", 'Blood Sugar Sex Magik', 'Live [Disc ]', 'Sex Machine', 'Green', 'Coda', 'Roda De Funk', 'Quanta Gente Veio ver--Bônus De Carnaval', 'A Soprano Inspired', 'Puccini: Madama Butterfly - Highlights', 'LOST, Season', 'Contraband', 'A Copland Celebration, Vol. I', 'Mascagni: Cavalleria Rusticana', 'Dark Side Of The Moon', 'Big Ones', 'Cesta Básica', 'Radio Brasil (O Som da Jovem Vanguarda) - Seleccao de Henrique Amaro', 'Fireball', 'Nielsen: The Six Symphonies', 'Battlestar Galactica: The Story So Far', 'Berlioz: Symphonie Fantastique', \"Vault: Def Leppard's Greatest Hits\", 'A Matter of Life and Death', 'Morning Dance', 'The Best Of -', 'Palestrina: Missa Papae Marcelli & Allegri: Miserere', 'Black Sabbath Vol.  (Remaster)', 'Compositores', 'The Best of Ed Motta', 'By The Way', 'Great Opera Choruses', 'Axé Bahia', 'The Police Greatest Hits', 'Appetite for Destruction', 'BackBeat Soundtrack', 'Synkronized', 'Da Lama Ao Caos', \"Schubert: The Late String Quartets & String Quintet ( CD's)\", 'Bach: Toccata & Fugue in D Minor', 'Bongo Fury', 'The Return Of The Space Cowboy', 'Black Album', 'Djavan Ao Vivo - Vol.', 'Bach: The Cello Suites', 'Iron Maiden', \"Pavarotti's Opera Made Easy\", 'Aquaman', \"Liszt -  Études D'Execution Transcendante\", 'A Real Live One', 'Outbreak', 'Houses Of The Holy', 'Carry On', 'Every Kind of Light', 'Locatelli: Concertos for Violin, Strings and Continuo, Vol.', 'Purcell: The Fairy Queen', 'Raul Seixas', 'Somewhere in Time', 'Dance Of Death', 'Black Sabbath', 'Purpendicular', 'Cássia Eller - Coleção Sem Limite [Disc ]', 'Milton Nascimento Ao Vivo', 'Core', 'Rotten Apples: Greatest Hits', 'Un-Led-Ed', 'Blizzard of Ozz', 'Get Born', 'The World of Classical Favourites', 'Californication', 'The Best Of Van Halen, Vol. I', 'Ten', \"Great Performances - Barber's Adagio and Other Romantic Favorites for Strings\", 'Tangents', 'Use Your Illusion II', 'Chopin: Piano Concertos Nos.  &', 'O Samba Poconé', 'Muso Ko', 'Load', 'Mozart: Wind Concertos', 'Fear Of The Dark', 'Temple of the Dog', 'The Cream Of Clapton', 'Retrospective I (-)', 'Carried to Dust (Bonus Track Version)', 'Sozinho Remix Ao Vivo', 'Olodum', 'Bach: Goldberg Variations', 'Warner  Anos', 'Arquivo Os Paralamas Do Sucesso', 'Koyaanisqatsi (Soundtrack from the Motion Picture)', 'Sibelius: Finlandia', 'Led Zeppelin II', 'Chill: Brazil (Disc )', 'Miles Ahead', 'Cafezinho', 'Vinícius De Moraes - Sem Limite', 'Great Recordings of the Century - Shubert: Schwanengesang,  Lieder', 'Sambas De Enredo', 'Jorge Ben Jor  Anos', 'The Best Of R.E.M.: The IRS Years', 'How To Dismantle An Atomic Bomb', '...And Justice For All', 'Adams, John: The Chairman Dances', 'Beyond Good And Evil', 'Acústico MTV [Live]', 'The Office, Season', 'Jagged Little Pill', 'Tchaikovsky: The Nutcracker', 'Slaves And Masters', 'Out Of Time', 'Pop', \"Beethoven: Symphony No.  'Pastoral' Etc.\", 'Body Count', 'Minas', 'Cidade Negra - Hits', 'Bach: Violin Concertos', 'Grieg: Peer Gynt Suites & Sibelius: Pelléas et Mélisande', 'Mozart: Chamber Music', 'Cake: B-Sides and Rarities', 'Original Soundtracks', 'Mezmerize', 'The X Factor', 'Holst: The Planets, Op.  & Vaughan Williams: Fantasies', 'Afrociberdelia', 'Os Cães Ladram Mas A Caravana Não Pára', 'Serie Sem Limite (Disc )', 'King For A Day Fool For A Lifetime', 'J.S. Bach: Chaconne, Suite in E Minor, Partita in E Major & Prelude, Fugue and Allegro', 'IV', 'Hot Rocks, - (Disc )', 'The Last Night of the Proms', 'Beethoven: Symhonies Nos.  &', 'No More Tears (Remastered)', 'Lost, Season', 'Realize', 'Prokofiev: Symphony No. & Stravinksy: Le Sacre Du Printemps', 'Speak of the Devil', 'Vinicius De Moraes', 'Led Zeppelin I', 'Arquivo II', 'Carmina Burana', 'Barulhinho Bom', 'Vivaldi: The Four Seasons', 'Faceless', 'Volume Dois', 'Balls to the Wall', 'War', 'Presence', 'Demorou...', 'Na Pista', 'The Best Of Men At Work', 'Scheherazade', 'Led Zeppelin III', 'Greatest Hits I', 'UB40 The Best Of - Volume Two [UK]', 'From The Muddy Banks Of The Wishkah [Live]', 'Handel: Music for the Royal Fireworks (Original Version )', 'Emergency On Planet Earth', 'Acústico MTV', 'Motley Crue Greatest Hits', 'Unplugged', 'Deep Purple In Rock', 'The Colour And The Shape', 'Minha História', 'A Real Dead One', 'Piece Of Mind', 'Duos II']\n"
     ]
    },
    {
     "data": {
      "text/plain": [
       "['Living After Midnight',\n",
       " \"Great Recordings of the Century: Paganini's  Caprices\",\n",
       " 'Alcohol Fueled Brewtality Live! [Disc ]',\n",
       " 'SCRIABIN: Vers la flamme',\n",
       " 'Album Of The Year']"
      ]
     },
     "execution_count": 23,
     "metadata": {},
     "output_type": "execute_result"
    }
   ],
   "source": [
    "import ast\n",
    "import re\n",
    "\n",
    "\n",
    "def query_as_list(db, query):\n",
    "    res = db.run(query)\n",
    "    res = [el for sub in ast.literal_eval(res) for el in sub if el]\n",
    "    res = [re.sub(r\"\\b\\d+\\b\", \"\", string).strip() for string in res]\n",
    "    return list(set(res))\n",
    "\n",
    "\n",
    "artists = query_as_list(db, \"SELECT Name FROM Artist\")\n",
    "albums = query_as_list(db, \"SELECT Title FROM Album\")\n",
    "print(artists)\n",
    "print(albums)\n",
    "albums[:5]"
   ]
  },
  {
   "cell_type": "code",
   "execution_count": 25,
   "metadata": {},
   "outputs": [
    {
     "name": "stdout",
     "output_type": "stream",
     "text": [
      "Collecting faiss-cpu\n",
      "  Using cached faiss_cpu-1.8.0-cp312-cp312-macosx_10_14_x86_64.whl.metadata (3.6 kB)\n",
      "Requirement already satisfied: numpy in /Library/Frameworks/Python.framework/Versions/3.12/lib/python3.12/site-packages (from faiss-cpu) (1.26.4)\n",
      "Using cached faiss_cpu-1.8.0-cp312-cp312-macosx_10_14_x86_64.whl (7.4 MB)\n",
      "Installing collected packages: faiss-cpu\n",
      "Successfully installed faiss-cpu-1.8.0\n",
      "Note: you may need to restart the kernel to use updated packages.\n"
     ]
    }
   ],
   "source": [
    "%pip install faiss-cpu"
   ]
  },
  {
   "cell_type": "code",
   "execution_count": 26,
   "metadata": {},
   "outputs": [],
   "source": [
    "from langchain.agents.agent_toolkits import create_retriever_tool\n",
    "from langchain_community.vectorstores import FAISS\n",
    "from langchain_openai import OpenAIEmbeddings\n",
    "\n",
    "vector_db = FAISS.from_texts(artists + albums, OpenAIEmbeddings())\n",
    "retriever = vector_db.as_retriever(search_kwargs={\"k\": 5})\n",
    "description = \"\"\"Use to look up values to filter on. Input is an approximate spelling of the proper noun, output is \\\n",
    "valid proper nouns. Use the noun most similar to the search.\"\"\"\n",
    "retriever_tool = create_retriever_tool(\n",
    "    retriever,\n",
    "    name=\"search_proper_nouns\",\n",
    "    description=description,\n",
    ")"
   ]
  },
  {
   "cell_type": "code",
   "execution_count": 32,
   "metadata": {},
   "outputs": [
    {
     "name": "stdout",
     "output_type": "stream",
     "text": [
      "AC/DC\n",
      "\n",
      "A-Sides\n",
      "\n",
      "Live [Disc ]\n",
      "\n",
      "Garage Inc. (Disc )\n",
      "\n",
      "Black Album\n"
     ]
    }
   ],
   "source": [
    "print(retriever_tool.invoke(\"AC/CD\"))"
   ]
  },
  {
   "cell_type": "code",
   "execution_count": 33,
   "metadata": {},
   "outputs": [],
   "source": [
    "system = \"\"\"You are an agent designed to interact with a SQL database.\n",
    "Given an input question, create a syntactically correct SQLite query to run, then look at the results of the query and return the answer.\n",
    "Unless the user specifies a specific number of examples they wish to obtain, always limit your query to at most 5 results.\n",
    "You can order the results by a relevant column to return the most interesting examples in the database.\n",
    "Never query for all the columns from a specific table, only ask for the relevant columns given the question.\n",
    "You have access to tools for interacting with the database.\n",
    "Only use the given tools. Only use the information returned by the tools to construct your final answer.\n",
    "You MUST double check your query before executing it. If you get an error while executing a query, rewrite the query and try again.\n",
    "\n",
    "DO NOT make any DML statements (INSERT, UPDATE, DELETE, DROP etc.) to the database.\n",
    "\n",
    "You have access to the following tables: {table_names}\n",
    "\n",
    "If you need to filter on a proper noun, you must ALWAYS first look up the filter value using the \"search_proper_nouns\" tool!\n",
    "Do not try to guess at the proper name - use this function to find similar ones.\"\"\".format(\n",
    "    table_names=db.get_usable_table_names()\n",
    ")\n",
    "\n",
    "system_message = SystemMessage(content=system)\n",
    "\n",
    "tools.append(retriever_tool)\n",
    "\n",
    "agent = create_react_agent(llm, tools, messages_modifier=system_message)"
   ]
  },
  {
   "cell_type": "code",
   "execution_count": 36,
   "metadata": {},
   "outputs": [
    {
     "name": "stdout",
     "output_type": "stream",
     "text": [
      "{'agent': {'messages': [AIMessage(content='', additional_kwargs={'tool_calls': [{'id': 'call_A6M1xgdbUgIAwDrhq5lQmGQu', 'function': {'arguments': '{\"query\":\"acdc\"}', 'name': 'search_proper_nouns'}, 'type': 'function'}]}, response_metadata={'token_usage': {'completion_tokens': 18, 'prompt_tokens': 671, 'total_tokens': 689}, 'model_name': 'gpt-3.5-turbo-0125', 'system_fingerprint': None, 'finish_reason': 'tool_calls', 'logprobs': None}, id='run-0fd087a1-cdc8-46fa-a050-978fa7a8562c-0', tool_calls=[{'name': 'search_proper_nouns', 'args': {'query': 'acdc'}, 'id': 'call_A6M1xgdbUgIAwDrhq5lQmGQu'}], usage_metadata={'input_tokens': 671, 'output_tokens': 18, 'total_tokens': 689})]}}\n",
      "----\n",
      "{'tools': {'messages': [ToolMessage(content='AC/DC\\n\\nBlack Sabbath\\n\\nBlack Sabbath\\n\\nIron Maiden\\n\\nIron Maiden', name='search_proper_nouns', tool_call_id='call_A6M1xgdbUgIAwDrhq5lQmGQu')]}}\n",
      "----\n",
      "{'agent': {'messages': [AIMessage(content='', additional_kwargs={'tool_calls': [{'id': 'call_NxBIUXrynHMj0cgQQi9iJrji', 'function': {'arguments': '{\"query\":\"SELECT Album.Title FROM Album JOIN Artist ON Album.ArtistId = Artist.ArtistId WHERE Artist.Name = \\'AC/DC\\'\"}', 'name': 'sql_db_query'}, 'type': 'function'}]}, response_metadata={'token_usage': {'completion_tokens': 40, 'prompt_tokens': 715, 'total_tokens': 755}, 'model_name': 'gpt-3.5-turbo-0125', 'system_fingerprint': None, 'finish_reason': 'tool_calls', 'logprobs': None}, id='run-92b51373-70c0-45d2-8b5c-a89ef756fdef-0', tool_calls=[{'name': 'sql_db_query', 'args': {'query': \"SELECT Album.Title FROM Album JOIN Artist ON Album.ArtistId = Artist.ArtistId WHERE Artist.Name = 'AC/DC'\"}, 'id': 'call_NxBIUXrynHMj0cgQQi9iJrji'}], usage_metadata={'input_tokens': 715, 'output_tokens': 40, 'total_tokens': 755})]}}\n",
      "----\n",
      "{'tools': {'messages': [ToolMessage(content=\"[('For Those About To Rock We Salute You',), ('Let There Be Rock',)]\", name='sql_db_query', tool_call_id='call_NxBIUXrynHMj0cgQQi9iJrji')]}}\n",
      "----\n",
      "{'agent': {'messages': [AIMessage(content='AC/DC has the following albums:\\n1. For Those About To Rock We Salute You\\n2. Let There Be Rock', response_metadata={'token_usage': {'completion_tokens': 27, 'prompt_tokens': 784, 'total_tokens': 811}, 'model_name': 'gpt-3.5-turbo-0125', 'system_fingerprint': None, 'finish_reason': 'stop', 'logprobs': None}, id='run-cf8b8eb1-3c1c-4bec-ab2c-563292a50be4-0', usage_metadata={'input_tokens': 784, 'output_tokens': 27, 'total_tokens': 811})]}}\n",
      "----\n"
     ]
    }
   ],
   "source": [
    "for s in agent.stream(\n",
    "    {\"messages\": [HumanMessage(content=\"Which albums does acdc have?\")]}\n",
    "):\n",
    "    print(s)\n",
    "    print(\"----\")"
   ]
  }
 ],
 "metadata": {
  "kernelspec": {
   "display_name": "Python 3",
   "language": "python",
   "name": "python3"
  },
  "language_info": {
   "codemirror_mode": {
    "name": "ipython",
    "version": 3
   },
   "file_extension": ".py",
   "mimetype": "text/x-python",
   "name": "python",
   "nbconvert_exporter": "python",
   "pygments_lexer": "ipython3",
   "version": "3.12.2"
  }
 },
 "nbformat": 4,
 "nbformat_minor": 2
}
